{
 "cells": [
  {
   "cell_type": "markdown",
   "id": "18c7d241",
   "metadata": {},
   "source": [
    "1.**Simple Message: Assign a message to a variable, and then print that message.**"
   ]
  },
  {
   "cell_type": "code",
   "execution_count": 1,
   "id": "de481843",
   "metadata": {},
   "outputs": [
    {
     "name": "stdout",
     "output_type": "stream",
     "text": [
      "i am learning python\n"
     ]
    }
   ],
   "source": [
    "message = \"i am learning python\"\n",
    "print(message)"
   ]
  },
  {
   "cell_type": "markdown",
   "id": "588f0642",
   "metadata": {},
   "source": [
    "2.**Find a quote from a famous person you admire. Print the quote and the name of its author. Your output should look something like the following, including the quotation marks:**\n"
   ]
  },
  {
   "cell_type": "code",
   "execution_count": 3,
   "id": "b81943d7",
   "metadata": {},
   "outputs": [
    {
     "name": "stdout",
     "output_type": "stream",
     "text": [
      "Muhammad PBUH  said  \"say salam before talk\"\n"
     ]
    }
   ],
   "source": [
    "quote = '\"say salam before talk\"'\n",
    "speaker =\"Muhammad PBUH\"\n",
    "print(speaker, \" said \",quote)"
   ]
  },
  {
   "cell_type": "markdown",
   "id": "5111ffe5",
   "metadata": {},
   "source": [
    "3.**Calculate Area of a Circle::**"
   ]
  },
  {
   "cell_type": "code",
   "execution_count": 6,
   "id": "a88c8f6f",
   "metadata": {},
   "outputs": [
    {
     "name": "stdout",
     "output_type": "stream",
     "text": [
      "please enter radius of circle:23\n",
      "the area of the circle is  1661.9025137490005\n"
     ]
    }
   ],
   "source": [
    "import math\n",
    "radius = float(input(\"please enter radius of circle:\"))\n",
    "area = math.pi*radius**2\n",
    "print(\"the area of the circle is \",area)"
   ]
  },
  {
   "cell_type": "markdown",
   "id": "fe72d26e",
   "metadata": {},
   "source": [
    "4.**Check Number either positive, negative or zero:**"
   ]
  },
  {
   "cell_type": "code",
   "execution_count": 10,
   "id": "1f84b9ba",
   "metadata": {},
   "outputs": [
    {
     "name": "stdout",
     "output_type": "stream",
     "text": [
      "plese enter number0\n",
      "zero\n"
     ]
    }
   ],
   "source": [
    "number = int(input(\"plese enter number\"))\n",
    "if number>0:\n",
    "    print(\"your no is positive\")\n",
    "elif number<0:\n",
    "    print(\"your no is negitive\")\n",
    "else:\n",
    "    print(\"zero\")"
   ]
  },
  {
   "cell_type": "markdown",
   "id": "5e9003d4",
   "metadata": {},
   "source": [
    "5.**Vowel Tester**"
   ]
  },
  {
   "cell_type": "code",
   "execution_count": 19,
   "id": "5d2287e8",
   "metadata": {},
   "outputs": [
    {
     "name": "stdout",
     "output_type": "stream",
     "text": [
      "please enter your charactorf\n",
      "your charactor is consonant\n"
     ]
    }
   ],
   "source": [
    "vowel =input(\"please enter your charactor\" )\n",
    "if vowel == (\"a\" or \"e\" or \"i\" or \"o\" or \"u\"):\n",
    "    print(\"your char is vowel\")\n",
    "else:\n",
    "    print(\"your charactor is consonant\")\n",
    "    \n",
    "    \n"
   ]
  },
  {
   "cell_type": "code",
   "execution_count": null,
   "id": "8aeab3a2",
   "metadata": {},
   "outputs": [],
   "source": []
  },
  {
   "cell_type": "code",
   "execution_count": null,
   "id": "ad017c02",
   "metadata": {},
   "outputs": [],
   "source": []
  }
 ],
 "metadata": {
  "kernelspec": {
   "display_name": "Python 3 (ipykernel)",
   "language": "python",
   "name": "python3"
  },
  "language_info": {
   "codemirror_mode": {
    "name": "ipython",
    "version": 3
   },
   "file_extension": ".py",
   "mimetype": "text/x-python",
   "name": "python",
   "nbconvert_exporter": "python",
   "pygments_lexer": "ipython3",
   "version": "3.9.12"
  }
 },
 "nbformat": 4,
 "nbformat_minor": 5
}
